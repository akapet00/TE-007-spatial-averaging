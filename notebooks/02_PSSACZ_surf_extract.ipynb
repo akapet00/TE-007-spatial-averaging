{
 "cells": [
  {
   "cell_type": "code",
   "execution_count": null,
   "id": "b67cb2a3-5252-488a-9487-ea32e53e96ee",
   "metadata": {},
   "outputs": [],
   "source": [
    "import os\n",
    "\n",
    "import matplotlib.pyplot as plt\n",
    "import numpy as np\n",
    "import open3d as o3d\n",
    "import pandas as pd\n",
    "from scipy import spatial\n",
    "from tqdm.auto import tqdm\n",
    "\n",
    "from utils import config_rcparams, set_axes_equal, set_3d_params"
   ]
  },
  {
   "cell_type": "code",
   "execution_count": null,
   "id": "cfec5146-27c2-4a02-9cf6-18d724cf9c05",
   "metadata": {},
   "outputs": [],
   "source": [
    "config_rcparams()"
   ]
  },
  {
   "cell_type": "code",
   "execution_count": null,
   "id": "3c2a0ca6-e0b3-4821-8e39-a8bb911e31d2",
   "metadata": {},
   "outputs": [],
   "source": [
    "%config InlineBackend.figure_format = 'retina'"
   ]
  },
  {
   "cell_type": "markdown",
   "id": "2984ac82-5e8c-4117-a282-f5a47dea4882",
   "metadata": {},
   "source": [
    "# Extraction of the points on the boundary of the point cloud"
   ]
  },
  {
   "cell_type": "markdown",
   "id": "b4765364-65a8-42df-a588-7de51f81849a",
   "metadata": {},
   "source": [
    "Let’s assume we have a point cloud, $\\mathbb{X} = \\{\\mathbf{x}_1, \\mathbf{x}_2, \\dots, \\mathbf{x}_n\\}$, where $\\mathbf{x}_i = (x_i, y_i, z_i) \\in \\mathbb{X} \\subset \\mathbb{R}^3$ and $1 \\leq i \\leq n$, and we want to extract all the points on the surface:"
   ]
  },
  {
   "cell_type": "markdown",
   "id": "d86f40fd-02d7-4243-b923-30494b174699",
   "metadata": {},
   "source": [
    "![title](figures/pc-surf.png)"
   ]
  },
  {
   "cell_type": "markdown",
   "id": "1d57d79f-6eb5-4e5c-aad4-d5deb60d6805",
   "metadata": {},
   "source": [
    "Then, the following steps should be applied:"
   ]
  },
  {
   "cell_type": "markdown",
   "id": "77d66bea-3cd5-458a-8645-83b7b2a1c1d4",
   "metadata": {},
   "source": [
    "![title](figures/pc-surf-extract.png)"
   ]
  },
  {
   "cell_type": "markdown",
   "id": "1b4141c6-7b1f-435b-a2cf-986d1ae1286f",
   "metadata": {},
   "source": [
    "Implementation:"
   ]
  },
  {
   "cell_type": "code",
   "execution_count": null,
   "id": "ee62c8b8-f92f-4263-837b-881b10e5ead0",
   "metadata": {},
   "outputs": [],
   "source": [
    "def extract_surface_points(points, radius):\n",
    "    \"\"\"Return surface points on the point cloud.\n",
    "\n",
    "    Parameters\n",
    "    ----------\n",
    "    points : numpy.ndarray\n",
    "        Point cloud.\n",
    "    radius : number\n",
    "        The radius of points to create a local neighbourhood\n",
    "        \n",
    "    Return\n",
    "    ------\n",
    "    numpy.ndarray\n",
    "        Surface points\n",
    "    \"\"\"\n",
    "    surface_points = []\n",
    "    tree = spatial.KDTree(points)\n",
    "    for point in tqdm(points):\n",
    "        # step 1: extract a local neighbourhood around the query point\n",
    "        idx = tree.query_ball_point(point, r=radius, eps=0, p=2)\n",
    "        nbh = points[idx]\n",
    "    \n",
    "        # step 2: estimate normal direction at the query point\n",
    "        X = nbh.copy()\n",
    "        X = X - np.mean(X, axis=0)\n",
    "        C = X.T @ X\n",
    "        U, S, _ = np.linalg.svd(C)\n",
    "        n =  U[:, np.argmin(S)]\n",
    "            \n",
    "        # step 3: search two circular patches within neighbourhood\n",
    "        centers = [point+n*radius/2,\n",
    "                   point-n*radius/2]\n",
    "        for center in centers:\n",
    "            ii = tree.query_ball_point(center, r=radius/2, eps=0, p=2)\n",
    "            if len(ii) in [0, 1]:\n",
    "                surface_points.append(point)\n",
    "    return np.unique(surface_points, axis=0)"
   ]
  },
  {
   "cell_type": "markdown",
   "id": "cd710bd9-29c0-467a-a205-e66d75b20cad",
   "metadata": {},
   "source": [
    "Example:"
   ]
  },
  {
   "cell_type": "code",
   "execution_count": null,
   "id": "469ecc86-7505-4420-adda-89bee65c3e52",
   "metadata": {},
   "outputs": [],
   "source": [
    "# load the point cloud\n",
    "fname = os.path.join('data', 'PSSACZ.ply')\n",
    "pcd = o3d.io.read_point_cloud(fname)\n",
    "points = np.asarray(pcd.points)"
   ]
  },
  {
   "cell_type": "code",
   "execution_count": null,
   "id": "561e3c89-252c-4e10-aeb8-c895821d0cb1",
   "metadata": {},
   "outputs": [],
   "source": [
    "fig = plt.figure(figsize=(5, 5))\n",
    "ax = plt.axes(projection='3d')\n",
    "ax = set_3d_params(ax)\n",
    "ax.scatter(*points.T, fc='w', ec='k', s=15, lw=0.5)\n",
    "ax.view_init(25, -70);"
   ]
  },
  {
   "cell_type": "code",
   "execution_count": null,
   "id": "54c0e9a8-007a-4061-9bf0-711601e1a79d",
   "metadata": {},
   "outputs": [],
   "source": [
    "# extract the surface\n",
    "fname = os.path.join('data', 'PSSACZ_surf.ply')\n",
    "if os.path.isfile(fname):\n",
    "    pcd_surf = o3d.io.read_point_cloud(fname)\n",
    "else:\n",
    "    surface_points = extract_surface_points(points, radius=0.3)\n",
    "    pcd_surf = o3d.geometry.PointCloud(\n",
    "        o3d.utility.Vector3dVector(surface_points)\n",
    "    )\n",
    "    _ = o3d.io.write_point_cloud(fname, pcd_surf)"
   ]
  },
  {
   "cell_type": "code",
   "execution_count": null,
   "id": "3ed293af-94e3-40c9-80f6-65f246b421d6",
   "metadata": {},
   "outputs": [],
   "source": [
    "fig = plt.figure(figsize=(5, 5))\n",
    "ax = plt.axes(projection='3d')\n",
    "ax = set_3d_params(ax)\n",
    "ax.scatter(*surface_points.T, fc='w', ec='k', s=15, lw=0.5)\n",
    "ax.view_init(25, -70);"
   ]
  },
  {
   "cell_type": "code",
   "execution_count": null,
   "id": "934102ce-dc70-481b-9b37-2d268fff16d7",
   "metadata": {},
   "outputs": [],
   "source": []
  }
 ],
 "metadata": {
  "kernelspec": {
   "display_name": "Python 3 (ipykernel)",
   "language": "python",
   "name": "python3"
  },
  "language_info": {
   "codemirror_mode": {
    "name": "ipython",
    "version": 3
   },
   "file_extension": ".py",
   "mimetype": "text/x-python",
   "name": "python",
   "nbconvert_exporter": "python",
   "pygments_lexer": "ipython3",
   "version": "3.9.17"
  }
 },
 "nbformat": 4,
 "nbformat_minor": 5
}
