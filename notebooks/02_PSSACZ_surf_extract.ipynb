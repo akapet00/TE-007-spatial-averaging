{
 "cells": [
  {
   "cell_type": "code",
   "execution_count": null,
   "id": "b67cb2a3-5252-488a-9487-ea32e53e96ee",
   "metadata": {},
   "outputs": [],
   "source": [
    "import os\n",
    "\n",
    "import matplotlib.pyplot as plt\n",
    "import numpy as np\n",
    "import open3d as o3d\n",
    "import pandas as pd\n",
    "import pymeshfix\n",
    "from scipy import spatial\n",
    "from tqdm.auto import tqdm\n",
    "\n",
    "from utils import config_rcparams, set_axes_equal, set_3d_params"
   ]
  },
  {
   "cell_type": "code",
   "execution_count": null,
   "id": "cfec5146-27c2-4a02-9cf6-18d724cf9c05",
   "metadata": {},
   "outputs": [],
   "source": [
    "config_rcparams()"
   ]
  },
  {
   "cell_type": "code",
   "execution_count": null,
   "id": "3c2a0ca6-e0b3-4821-8e39-a8bb911e31d2",
   "metadata": {},
   "outputs": [],
   "source": [
    "%config InlineBackend.figure_format = 'retina'"
   ]
  },
  {
   "cell_type": "markdown",
   "id": "2984ac82-5e8c-4117-a282-f5a47dea4882",
   "metadata": {},
   "source": [
    "# Extraction of the points on the boundary of the point cloud"
   ]
  },
  {
   "cell_type": "markdown",
   "id": "b4765364-65a8-42df-a588-7de51f81849a",
   "metadata": {},
   "source": [
    "Let’s assume we have a set of points, $\\mathbb{X} = \\{\\mathbf{x}_1, \\mathbf{x}_2, \\dots, \\mathbf{x}_n\\}$, where $\\mathbf{x}_i = (x_i, y_i, z_i)$ with $1 \\leq i \\leq n$, sampling a compact region $\\Omega \\subset \\mathbb{R}^3$. We want to identify the subset of points that lie on the boundary surface $S = \\partial \\Omega$, called *surface points*."
   ]
  },
  {
   "cell_type": "markdown",
   "id": "d86f40fd-02d7-4243-b923-30494b174699",
   "metadata": {},
   "source": [
    "<div style=\"text-align:center\">\n",
    "    <img style=\"margin:20px; width:450px;\" src=\"figures/pc-surf.svg\">\n",
    "</div>"
   ]
  },
  {
   "cell_type": "markdown",
   "id": "1d57d79f-6eb5-4e5c-aad4-d5deb60d6805",
   "metadata": {},
   "source": [
    "The following steps should be applied to each point, $\\mathbf{x}_i$, in $\\mathbb{X}$."
   ]
  },
  {
   "cell_type": "markdown",
   "id": "77d66bea-3cd5-458a-8645-83b7b2a1c1d4",
   "metadata": {},
   "source": [
    "<div style=\"text-align:center\">\n",
    "    <img style=\"margin:20px; width:750px;\" src=\"figures/pc-surf-extract.svg\">\n",
    "</div>"
   ]
  },
  {
   "cell_type": "markdown",
   "id": "1b4141c6-7b1f-435b-a2cf-986d1ae1286f",
   "metadata": {},
   "source": [
    "The following is the simple implementation in Python by using only the `SciPy.spatial` module."
   ]
  },
  {
   "cell_type": "code",
   "execution_count": null,
   "id": "ee62c8b8-f92f-4263-837b-881b10e5ead0",
   "metadata": {},
   "outputs": [],
   "source": [
    "def extract_surface_points(points, radius):\n",
    "    \"\"\"Return surface points on the point cloud.\n",
    "\n",
    "    Parameters\n",
    "    ----------\n",
    "    points : numpy.ndarray\n",
    "        Point cloud\n",
    "    radius : number\n",
    "        The radius of points to create a local neighbourhood\n",
    "        \n",
    "    Return\n",
    "    ------\n",
    "    numpy.ndarray\n",
    "        Surface points\n",
    "    \"\"\"\n",
    "    surface_points = []\n",
    "    tree = spatial.KDTree(points)\n",
    "    for point in tqdm(points):\n",
    "        # step 1: extract a local neighbourhood around the query point\n",
    "        idx = tree.query_ball_point(point, r=radius, eps=0, p=2)\n",
    "        nbh = points[idx]\n",
    "    \n",
    "        # step 2: estimate normal direction at the query point\n",
    "        X = nbh.copy()\n",
    "        X = X - np.mean(X, axis=0)\n",
    "        C = X.T @ X\n",
    "        U, S, _ = np.linalg.svd(C)\n",
    "        n =  U[:, np.argmin(S)]\n",
    "            \n",
    "        # step 3: search two circular patches within neighbourhood\n",
    "        centers = [point+n*radius/2,\n",
    "                   point-n*radius/2]\n",
    "        for center in centers:\n",
    "            ii = tree.query_ball_point(center, r=radius/2, eps=0, p=2)\n",
    "            if len(ii) in [0, 1]:\n",
    "                surface_points.append(point)\n",
    "    return np.unique(surface_points, axis=0)"
   ]
  },
  {
   "cell_type": "markdown",
   "id": "0903e253-07c5-4cd3-be48-eb1ccb135068",
   "metadata": {},
   "source": [
    "Example:"
   ]
  },
  {
   "cell_type": "code",
   "execution_count": null,
   "id": "469ecc86-7505-4420-adda-89bee65c3e52",
   "metadata": {},
   "outputs": [],
   "source": [
    "# load the point cloud\n",
    "fname = os.path.join('data', 'PSSACZ.ply')\n",
    "pcd = o3d.io.read_point_cloud(fname)\n",
    "points = np.asarray(pcd.points)"
   ]
  },
  {
   "cell_type": "code",
   "execution_count": null,
   "id": "561e3c89-252c-4e10-aeb8-c895821d0cb1",
   "metadata": {},
   "outputs": [],
   "source": [
    "fig = plt.figure(figsize=(5, 5))\n",
    "ax = plt.axes(projection='3d')\n",
    "ax = set_3d_params(ax)\n",
    "ax.scatter(*points.T, fc='w', ec='k', s=15, lw=0.5)\n",
    "ax.view_init(25, -70);"
   ]
  },
  {
   "cell_type": "code",
   "execution_count": null,
   "id": "54c0e9a8-007a-4061-9bf0-711601e1a79d",
   "metadata": {},
   "outputs": [],
   "source": [
    "# extract the surface\n",
    "fname = os.path.join('data', 'PSSACZ_surf.ply')\n",
    "if os.path.isfile(fname):\n",
    "    pcd_surf = o3d.io.read_point_cloud(fname)\n",
    "    surface_points = np.asarray(pcd_surf.points)\n",
    "else:\n",
    "    surface_points = extract_surface_points(points, radius=0.3)\n",
    "    pcd_surf = o3d.geometry.PointCloud(\n",
    "        o3d.utility.Vector3dVector(surface_points)\n",
    "    )\n",
    "    _ = o3d.io.write_point_cloud(fname, pcd_surf)"
   ]
  },
  {
   "cell_type": "code",
   "execution_count": null,
   "id": "3ed293af-94e3-40c9-80f6-65f246b421d6",
   "metadata": {},
   "outputs": [],
   "source": [
    "fig = plt.figure(figsize=(5, 5))\n",
    "ax = plt.axes(projection='3d')\n",
    "ax = set_3d_params(ax)\n",
    "ax.scatter(*surface_points.T, fc='w', ec='k', s=15, lw=0.5)\n",
    "ax.view_init(25, -70);"
   ]
  },
  {
   "cell_type": "code",
   "execution_count": null,
   "id": "9d8a83c9-804e-4bd1-9266-d2d4ab71d696",
   "metadata": {},
   "outputs": [],
   "source": [
    "def normalize(points):\n",
    "    \"\"\"Return point cloud fixed into the unit cube.\n",
    "\n",
    "    Parameters\n",
    "    ----------\n",
    "    points : numpy.ndarray\n",
    "        Point cloud\n",
    "\n",
    "    Return\n",
    "    ------\n",
    "    numpy.ndarray\n",
    "        Scaled point cloud\n",
    "    \"\"\"\n",
    "    centroid = np.mean(points, axis=0)\n",
    "    points -= centroid\n",
    "    max_dist = np.linalg.norm(points, axis=1).max()\n",
    "    points /= max_dist\n",
    "    return points"
   ]
  },
  {
   "cell_type": "code",
   "execution_count": null,
   "id": "dfc971f7-2478-4005-9852-b3715397a5e5",
   "metadata": {},
   "outputs": [],
   "source": [
    "# scale the point cloud\n",
    "fname = os.path.join('data', 'PSSACZ_surf_scaled.ply')\n",
    "if os.path.isfile(fname):\n",
    "    pcd_surf_scaled = o3d.io.read_point_cloud(fname)\n",
    "    surface_points_scaled = np.asarray(pcd_surf_scaled.points)\n",
    "    normals = np.asarray(pcd_surf_scaled.normals)\n",
    "else:\n",
    "    surface_points_scaled = normalize(surface_points)\n",
    "    pcd_surf_scaled = o3d.geometry.PointCloud(\n",
    "        o3d.utility.Vector3dVector(surface_points_scaled)\n",
    "    )\n",
    "    pcd_surf_scaled = pcd_surf_scaled.voxel_down_sample(voxel_size=0.01)\n",
    "    pcd_surf_scaled.estimate_normals(o3d.geometry.KDTreeSearchParamKNN(knn=10))\n",
    "    pcd_surf_scaled.orient_normals_consistent_tangent_plane(k=20)\n",
    "    normals = np.asarray(pcd_surf_scaled.normals)\n",
    "    colors = np.c_[np.round(0.5*normals[:, 0]+0.5, 12),\n",
    "                   np.round(0.5*normals[:, 1]+0.5, 12),\n",
    "                   np.round(0.5*normals[:, 2]+0.5, 12)]\n",
    "    pcd_surf_scaled.colors = o3d.utility.Vector3dVector(colors)\n",
    "    _ = o3d.io.write_point_cloud(fname, pcd_surf_scaled)"
   ]
  },
  {
   "cell_type": "code",
   "execution_count": null,
   "id": "d03632b7-6ea9-4baa-bffe-763dae2acd0e",
   "metadata": {},
   "outputs": [],
   "source": [
    "o3d.visualization.draw_plotly([pcd_surf_scaled])"
   ]
  },
  {
   "cell_type": "markdown",
   "id": "48ce0746-a495-44ce-824c-3c86903a5782",
   "metadata": {},
   "source": [
    "# Surface reconstruction"
   ]
  },
  {
   "cell_type": "markdown",
   "id": "9f80ad6c-e8ea-4663-a6c3-036dc48d70e8",
   "metadata": {},
   "source": [
    "## Ball pivoting"
   ]
  },
  {
   "cell_type": "code",
   "execution_count": null,
   "id": "b19d9a20-b4fb-4676-bc55-a63714ca58e3",
   "metadata": {},
   "outputs": [],
   "source": [
    "distances = pcd_surf_scaled.compute_nearest_neighbor_distance()\n",
    "avg_dist = np.mean(distances)\n",
    "radius = 3 * avg_dist"
   ]
  },
  {
   "cell_type": "code",
   "execution_count": null,
   "id": "4b26bc5d-eb93-488f-9dd9-836f7d1cf8cb",
   "metadata": {},
   "outputs": [],
   "source": [
    "bpa_mesh = o3d.geometry.TriangleMesh.create_from_point_cloud_ball_pivoting(\n",
    "    pcd_surf_scaled, o3d.utility.DoubleVector([radius, radius*2]))"
   ]
  },
  {
   "cell_type": "code",
   "execution_count": null,
   "id": "ad35377a-6a55-44bc-8207-c1769d05363f",
   "metadata": {},
   "outputs": [],
   "source": [
    "o3d.visualization.draw_plotly([bpa_mesh])"
   ]
  },
  {
   "cell_type": "markdown",
   "id": "8f44b797-bc61-45d8-a47f-3589a9ce9077",
   "metadata": {},
   "source": [
    "## Poisson"
   ]
  },
  {
   "cell_type": "code",
   "execution_count": null,
   "id": "a3150804-1406-49df-aa15-0ab9d5da88ed",
   "metadata": {},
   "outputs": [],
   "source": [
    "poisson_mesh, densities = o3d.geometry.TriangleMesh.create_from_point_cloud_poisson(\n",
    "    pcd_surf_scaled, depth=8, scale=1.1)"
   ]
  },
  {
   "cell_type": "code",
   "execution_count": null,
   "id": "9871f8d7-dc08-4615-892e-85ccf33a160f",
   "metadata": {},
   "outputs": [],
   "source": [
    "densities = np.asarray(densities)\n",
    "density_colors = plt.get_cmap('plasma')(\n",
    "    (densities - densities.min()) / (densities.max() - densities.min()))\n",
    "density_colors = density_colors[:, :3]\n",
    "density_mesh = o3d.geometry.TriangleMesh()\n",
    "density_mesh.vertices = poisson_mesh.vertices\n",
    "density_mesh.triangles = poisson_mesh.triangles\n",
    "density_mesh.triangle_normals = poisson_mesh.triangle_normals\n",
    "density_mesh.vertex_colors = o3d.utility.Vector3dVector(density_colors)"
   ]
  },
  {
   "cell_type": "code",
   "execution_count": null,
   "id": "bf3e8d9e-6391-4e81-9acc-146ad4bb0ecb",
   "metadata": {},
   "outputs": [],
   "source": [
    "o3d.visualization.draw_geometries([density_mesh])"
   ]
  },
  {
   "cell_type": "code",
   "execution_count": null,
   "id": "5925ee85-b4f3-45fd-b4f9-6a3ac90be35b",
   "metadata": {},
   "outputs": [],
   "source": [
    "mask = densities < np.quantile(densities, 0.2)\n",
    "density_mesh.remove_vertices_by_mask(mask)"
   ]
  },
  {
   "cell_type": "code",
   "execution_count": null,
   "id": "79d752be-1115-41c5-9254-81f080626668",
   "metadata": {},
   "outputs": [],
   "source": [
    "o3d.visualization.draw_plotly([density_mesh])"
   ]
  },
  {
   "cell_type": "markdown",
   "id": "b3531ba9-6840-4a5a-926d-e1846d9e87bf",
   "metadata": {},
   "source": [
    "## WIP. Signed-distance function interpolation"
   ]
  },
  {
   "cell_type": "code",
   "execution_count": null,
   "id": "d89a2c39-9996-4ca5-bb71-586360372633",
   "metadata": {},
   "outputs": [],
   "source": [
    "import polatory\n",
    "from matplotlib import cm\n",
    "from skimage import measure\n",
    "from scipy import interpolate"
   ]
  },
  {
   "cell_type": "code",
   "execution_count": null,
   "id": "2d955711-4090-4e95-9865-f352fc4a00d3",
   "metadata": {},
   "outputs": [],
   "source": [
    "points = np.asarray(pcd_surf_scaled.points)\n",
    "normals = np.asarray(pcd_surf_scaled.normals)\n",
    "mask = (np.isclose(normals[:, 0], 0, atol=1e-4)\n",
    "        & np.isclose(normals[:, 1], 0, atol=1e-4))"
   ]
  },
  {
   "cell_type": "code",
   "execution_count": null,
   "id": "0b5a0135-8e70-4022-969e-5ce028189269",
   "metadata": {},
   "outputs": [],
   "source": [
    "_cloud = o3d.geometry.PointCloud(\n",
    "    o3d.utility.Vector3dVector(points[~mask])\n",
    ")"
   ]
  },
  {
   "cell_type": "code",
   "execution_count": null,
   "id": "520487c2-9e3d-4c14-a6e3-7eb0402718cb",
   "metadata": {},
   "outputs": [],
   "source": [
    "o3d.visualization.draw_geometries([_cloud])"
   ]
  },
  {
   "cell_type": "code",
   "execution_count": null,
   "id": "c23321f5-7a21-4a5c-96ec-585459f9a711",
   "metadata": {},
   "outputs": [],
   "source": [
    "sdf = polatory.SdfDataGenerator(points[~mask],\n",
    "                                normals[~mask],\n",
    "                                5e-4, 5e-3)\n",
    "sdf_points, sdf_values = sdf.sdf_points, sdf.sdf_values"
   ]
  },
  {
   "cell_type": "code",
   "execution_count": null,
   "id": "6f98d6b0-0098-451b-a894-623d6e69c757",
   "metadata": {},
   "outputs": [],
   "source": [
    "sdf_points = np.append(sdf_points, points[mask], axis=0)\n",
    "sdf_values = np.append(sdf_values, np.zeros((points[mask].shape[0], )))"
   ]
  },
  {
   "cell_type": "code",
   "execution_count": null,
   "id": "3a9931ce-aee3-4bd7-ae20-dcb8e2c2d1bf",
   "metadata": {},
   "outputs": [],
   "source": [
    "_range = (0, 1)\n",
    "scaler = (sdf_values - sdf_values.min()) / (sdf_values.max() - sdf_values.min())\n",
    "sdf_values_scaled = scaler * (_range[1] - _range[0]) + _range[0]\n",
    "colors = cm.viridis(sdf_values_scaled)[..., :-1]"
   ]
  },
  {
   "cell_type": "code",
   "execution_count": null,
   "id": "937bb64f-4d5c-4955-807a-bf8e27a1be0e",
   "metadata": {},
   "outputs": [],
   "source": [
    "sdf_cloud = o3d.geometry.PointCloud(\n",
    "    o3d.utility.Vector3dVector(sdf_points.copy())\n",
    ")\n",
    "sdf_cloud.colors = o3d.utility.Vector3dVector(colors)"
   ]
  },
  {
   "cell_type": "code",
   "execution_count": null,
   "id": "d74388b9-050c-4a45-aa11-902323849aac",
   "metadata": {},
   "outputs": [],
   "source": [
    "o3d.visualization.draw_geometries([sdf_cloud])"
   ]
  },
  {
   "cell_type": "code",
   "execution_count": null,
   "id": "2f280ea3-4a2c-44cc-a4b0-18ade29d514f",
   "metadata": {},
   "outputs": [],
   "source": [
    "interp = interpolate.RBFInterpolator(sdf_points,\n",
    "                                     sdf_values,\n",
    "                                     neighbors=1000,\n",
    "                                     kernel='linear',  # biharmonic kernel\n",
    "                                     degree=1)"
   ]
  },
  {
   "cell_type": "code",
   "execution_count": null,
   "id": "939bb94b-1982-46cf-a6b8-32b814fb95d5",
   "metadata": {},
   "outputs": [],
   "source": [
    "xmin, ymin, zmin = np.min(points, axis=0)\n",
    "xmax, ymax, zmax = np.max(points, axis=0)"
   ]
  },
  {
   "cell_type": "code",
   "execution_count": null,
   "id": "4e6d7b1e-f68d-457d-9fe7-58da7dc617e4",
   "metadata": {},
   "outputs": [],
   "source": [
    "x_ = np.linspace(xmin, xmax, 21)\n",
    "y_ = np.linspace(ymin, ymax, 21)\n",
    "z_ = np.linspace(zmin, zmax, 21)\n",
    "X, Y, Z = np.meshgrid(x_, y_, z_)\n",
    "grid = np.c_[X.ravel(), Y.ravel(), Z.ravel()]"
   ]
  },
  {
   "cell_type": "code",
   "execution_count": null,
   "id": "1e44fb12-f95d-4864-ab74-e968a42235db",
   "metadata": {},
   "outputs": [],
   "source": [
    "_cloud = o3d.geometry.PointCloud(\n",
    "    o3d.utility.Vector3dVector(grid)\n",
    ")\n",
    "o3d.visualization.draw_geometries([pcd_surf_scaled, _cloud])"
   ]
  },
  {
   "cell_type": "code",
   "execution_count": null,
   "id": "db756acf-efc7-4a42-8fde-f9deae49a5bb",
   "metadata": {},
   "outputs": [],
   "source": [
    "grid_val = interp(grid)"
   ]
  },
  {
   "cell_type": "code",
   "execution_count": null,
   "id": "c2bf2ce6-82ff-4d48-9a9b-fd380abb23f2",
   "metadata": {},
   "outputs": [],
   "source": [
    "verts, faces, normals, values = measure.marching_cubes(\n",
    "    grid_val.reshape(X.shape), 0)"
   ]
  },
  {
   "cell_type": "code",
   "execution_count": null,
   "id": "0e1cc2c2-6206-42b5-9052-0b3999be040b",
   "metadata": {},
   "outputs": [],
   "source": [
    "ex = o3d.geometry.TriangleMesh()\n",
    "ex.vertices = o3d.utility.Vector3dVector(verts)\n",
    "ex.triangles = o3d.utility.Vector3iVector(faces)"
   ]
  },
  {
   "cell_type": "code",
   "execution_count": null,
   "id": "137df6ab-6832-470a-8d1e-872167311acb",
   "metadata": {},
   "outputs": [],
   "source": [
    "o3d.visualization.draw_geometries([ex])"
   ]
  },
  {
   "cell_type": "code",
   "execution_count": null,
   "id": "be390fe7-f71d-43e5-a029-4338c70925a2",
   "metadata": {},
   "outputs": [],
   "source": []
  }
 ],
 "metadata": {
  "kernelspec": {
   "display_name": "Python 3 (ipykernel)",
   "language": "python",
   "name": "python3"
  },
  "language_info": {
   "codemirror_mode": {
    "name": "ipython",
    "version": 3
   },
   "file_extension": ".py",
   "mimetype": "text/x-python",
   "name": "python",
   "nbconvert_exporter": "python",
   "pygments_lexer": "ipython3",
   "version": "3.9.17"
  }
 },
 "nbformat": 4,
 "nbformat_minor": 5
}
