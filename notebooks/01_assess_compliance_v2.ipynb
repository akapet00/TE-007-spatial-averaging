{
 "cells": [
  {
   "cell_type": "code",
   "execution_count": null,
   "id": "b0dfde33-a348-464c-b3f1-e5c3fb32a54c",
   "metadata": {},
   "outputs": [],
   "source": [
    "import matplotlib.pyplot as plt\n",
    "from matplotlib import patches\n",
    "import numpy as np\n",
    "from scipy import interpolate\n",
    "from scipy import spatial\n",
    "import seaborn as sns\n",
    "\n",
    "from utils import (config_rcparams,\n",
    "                   set_axes_equal,\n",
    "                   set_3d_params,\n",
    "                   estimate_normals,\n",
    "                   orient_normals)"
   ]
  },
  {
   "cell_type": "code",
   "execution_count": null,
   "id": "aba093b3-b6a1-44ba-ba5a-12a2de985dcc",
   "metadata": {},
   "outputs": [],
   "source": [
    "config_rcparams()"
   ]
  },
  {
   "cell_type": "code",
   "execution_count": null,
   "id": "9f2b2dfe-8f12-40e3-9585-b3c15a74034e",
   "metadata": {},
   "outputs": [],
   "source": [
    "%config InlineBackend.figure_format = 'retina'"
   ]
  },
  {
   "cell_type": "markdown",
   "id": "9c038495-e515-48d1-bd31-529897c97197",
   "metadata": {},
   "source": [
    "# Toy example: Gaussian-pattern compliance-zone boundary"
   ]
  },
  {
   "cell_type": "code",
   "execution_count": null,
   "id": "cab1ffde-6526-49d1-90c3-7506483d778f",
   "metadata": {},
   "outputs": [],
   "source": [
    "def f(x, y, A=1, x0=0, y0=0, theta_x=1, theta_y=1):\n",
    "    \"\"\"2D Gaussian function.\n",
    "\n",
    "    Parameters\n",
    "    ----------\n",
    "    x : float of numpy.ndarray\n",
    "        Spatial coordinate(s), x-direction\n",
    "    y : float of numpy.ndarray\n",
    "        Spatial coordinate(s), y-direction\n",
    "    A : float, optional\n",
    "        Amplitude    \n",
    "    x0 : float, optional\n",
    "        Center of the blob, x-direction\n",
    "    y0 : float, optional\n",
    "        Center of the blob, y-direction\n",
    "    theta_x : float, optional\n",
    "        Spread of the blob, x-direction\n",
    "    theta_y : float, optional\n",
    "        Spread of the blob, y-direction\n",
    "\n",
    "    Returns\n",
    "    -------\n",
    "    float or numpy.ndarray\n",
    "        Value(s) of the Guassian function, z-direction\n",
    "    \"\"\"\n",
    "    return A * np.exp(\n",
    "        - (x - x0) ** 2 / (2 * theta_x ** 2)\n",
    "        - (y - y0) ** 2 / (2 * theta_y ** 2))"
   ]
  },
  {
   "cell_type": "code",
   "execution_count": null,
   "id": "f624590d-f7ef-452c-84b8-984bc1588436",
   "metadata": {},
   "outputs": [],
   "source": [
    "# generate surface points of the compliance-zone boundary\n",
    "x = np.linspace(-1, 1, 51)\n",
    "y = np.linspace(-1, 1, 51)\n",
    "X, Y = np.meshgrid(x, y)\n",
    "Z = f(X, Y, A=2, theta_x=0.3, theta_y=0.3)"
   ]
  },
  {
   "cell_type": "code",
   "execution_count": null,
   "id": "680d1723-9d55-4c11-9254-e5830f0b6caa",
   "metadata": {},
   "outputs": [],
   "source": [
    "fig = plt.figure(figsize=(5, 5))\n",
    "ax = plt.axes(projection='3d')\n",
    "ax = set_3d_params(ax)\n",
    "surf = ax.plot_surface(X, Y, Z, lw=0, cstride=1, rstride=1, antialiased=False)"
   ]
  },
  {
   "cell_type": "markdown",
   "id": "326c10c6-897d-45b4-95ad-f611a7cd8c7e",
   "metadata": {},
   "source": [
    "## Normal estimation at each evaluation point"
   ]
  },
  {
   "cell_type": "code",
   "execution_count": null,
   "id": "2fe82214-b251-4810-abe9-99101227bc93",
   "metadata": {},
   "outputs": [],
   "source": [
    "# create the point cloud and generate a unit normal at each point\n",
    "points = np.c_[X.ravel(), Y.ravel(), Z.ravel()]\n",
    "normals = estimate_normals(points, k=20)\n",
    "normals = orient_normals(points, normals, k=20)"
   ]
  },
  {
   "cell_type": "code",
   "execution_count": null,
   "id": "481dea48-d105-44b8-924d-598bbdc7f2cb",
   "metadata": {},
   "outputs": [],
   "source": [
    "fig = plt.figure(figsize=(5, 5))\n",
    "ax = plt.axes(projection='3d')\n",
    "ax = set_3d_params(ax)\n",
    "surf = ax.plot_surface(X, Y, Z, lw=0, cstride=1, rstride=1, antialiased=False)\n",
    "q = ax.quiver(*points.T, *normals.T, color='k',\n",
    "              lw=0.5, length=0.25, arrow_length_ratio=0.15)"
   ]
  },
  {
   "cell_type": "markdown",
   "id": "38aaeab2-9704-43da-860b-040d1e767e26",
   "metadata": {},
   "source": [
    "## How to check whether a point is within the compliance-zone boundaries?"
   ]
  },
  {
   "cell_type": "markdown",
   "id": "1b4bd1ae-4d84-4040-baa4-0999fdafdea6",
   "metadata": {},
   "source": [
    "**Step 1** &ensp; Define the query point, $p$\n",
    "\n",
    "**Step 2** &ensp; Find $k$ points on the compliance-zone boundary nearest to $p$ \n",
    "\n",
    "**Step 3** &ensp; Compute the scalar product between the relative position vector to $p$ from each of the $k$-nearest neighbors and the corresponding unit normal vector, $\\mathbf{\\hat{n}_i}$:\n",
    "\n",
    "$$ \\lvert \\mathbf{p} - \\mathbf{x_i} \\rvert \\cdot {\\mathbf{\\hat{n}_i}} $$\n",
    "\n",
    "**Step 4** &ensp; Count the negative vs. positive values obtained in the previous step; if the ratio of the positive numbers is higher compared to the positive numbers, the point is located out of the compliance-zone boundaries"
   ]
  },
  {
   "cell_type": "code",
   "execution_count": null,
   "id": "819960d6-05ff-43c4-97da-de73f224304a",
   "metadata": {},
   "outputs": [],
   "source": [
    "# step 1\n",
    "point_out = np.array([1, -1, 2])  # out of the compliance-zone boundaries"
   ]
  },
  {
   "cell_type": "code",
   "execution_count": null,
   "id": "9516a4c2-2b9d-4d8b-a0ca-68bb1ad3351e",
   "metadata": {},
   "outputs": [],
   "source": [
    "fig = plt.figure(figsize=(5, 5))\n",
    "ax = plt.axes(projection='3d')\n",
    "surf = ax.plot_surface(X, Y, Z, lw=0, cstride=1, rstride=1, antialiased=False)\n",
    "ax.scatter(*points.T, fc='w', ec='k', s=5, lw=0.5)\n",
    "ax.scatter(*point_out, fc='orange', ec='k', s=15, lw=0.5)\n",
    "ax.text(*point_out + [0, 0, 0.2], f'{point_out}')\n",
    "ax = set_3d_params(ax)\n",
    "ax.view_init(25, -70);"
   ]
  },
  {
   "cell_type": "code",
   "execution_count": null,
   "id": "8657ed04-7cd2-4728-9feb-1e1b21a342ce",
   "metadata": {},
   "outputs": [],
   "source": [
    "# step 2\n",
    "tree = spatial.KDTree(points)\n",
    "dist, idx = tree.query(point_out, k=20)"
   ]
  },
  {
   "cell_type": "code",
   "execution_count": null,
   "id": "bc51bd92-c684-44fe-b2c6-a14c7748762b",
   "metadata": {},
   "outputs": [],
   "source": [
    "fig = plt.figure(figsize=(5, 5))\n",
    "ax = plt.axes(projection='3d')\n",
    "ax.scatter(*np.delete(points, idx, axis=0).T, fc='w', ec='k', s=5, lw=0.5)\n",
    "ax.scatter(*points[idx, ...].T, fc='green', ec='k', s=15, lw=0.5)\n",
    "ax.scatter(*point_out, fc='orange', ec='k', s=15, lw=0.5)\n",
    "ax.text(*point_out + [0, 0, 0.2], f'{point_out}')\n",
    "ax = set_3d_params(ax)\n",
    "ax.view_init(25, -70);"
   ]
  },
  {
   "cell_type": "code",
   "execution_count": null,
   "id": "7c48432b-dc1a-420d-bec1-a679e344fb72",
   "metadata": {},
   "outputs": [],
   "source": [
    "fig = plt.figure(figsize=(5, 5))\n",
    "ax = plt.axes(projection='3d')\n",
    "ax.scatter(*np.delete(points, idx, axis=0).T, fc='w', ec='k', s=5, lw=0.5)\n",
    "ax.scatter(*points[idx, ...].T, fc='green', ec='k', s=15, lw=0.5)\n",
    "ax.quiver(*points[idx, ...].T, *normals[idx, ...].T, color='k',\n",
    "          lw=0.5, length=0.5, arrow_length_ratio=0.15)\n",
    "ax.scatter(*point_out, fc='orange', ec='k', s=15, lw=0.5)\n",
    "ax.scatter(0, 0, 0, fc='k', ec='k', s=15, lw=0.5)\n",
    "ax.quiver(0, 0, 0, *point_out, color='k',\n",
    "          lw=1, arrow_length_ratio=0.1)\n",
    "ax.text(*point_out + [0, 0, 0.2], f'{point_out}')\n",
    "ax = set_3d_params(ax)\n",
    "ax.view_init(25, -70);"
   ]
  },
  {
   "cell_type": "code",
   "execution_count": null,
   "id": "c2b86d10-3954-4b99-83c4-56696a77cdd6",
   "metadata": {},
   "outputs": [],
   "source": [
    "# step 3\n",
    "prod = np.sum((point_out - points[idx]) * normals[idx], axis=1)"
   ]
  },
  {
   "cell_type": "code",
   "execution_count": null,
   "id": "e2198f7a-ab65-4a4f-a52e-560733f02df5",
   "metadata": {},
   "outputs": [],
   "source": [
    "# step 4\n",
    "prob = np.sum(prod > 0) / prod.size\n",
    "if prob > 0.5:\n",
    "    print(f'The point is OUT of the compliance-zone boundaries ({prob:.2f})')\n",
    "else:\n",
    "    print(f'The point is WITHIN the compliance-zone boundaries ({1-prob:.2f})')"
   ]
  },
  {
   "cell_type": "markdown",
   "id": "29a34d43-7404-4382-8a7a-55e28ba2a8d9",
   "metadata": {},
   "source": [
    "### A simple function to check whether a point is within the compliance-zone boundaries"
   ]
  },
  {
   "cell_type": "markdown",
   "id": "c4498a32-e5da-4ced-8d73-b5ad1919904d",
   "metadata": {},
   "source": [
    "The implementation is somewhat less robust as no SDF sampling is performed.\n",
    "Instead, only the original points comprising the point cloud that represents the surface of the compliance-zone boundary are used.\n",
    "This makes this method faster to execute and easier to implement, however there is no guarantee for convergence for complex boundary shapes as it is very sensitive on the number of examined closest points on the surface."
   ]
  },
  {
   "cell_type": "code",
   "execution_count": null,
   "id": "e3e92fcd-cbbb-4e0a-a760-9b33e4d46e99",
   "metadata": {},
   "outputs": [],
   "source": [
    "def assess_compliance(query_points,\n",
    "                      evaluation_points,\n",
    "                      sample_count=5,\n",
    "                      normals=None,\n",
    "                      k=None,\n",
    "                      **kwargs):\n",
    "    \"\"\"Return the indicator stating whether the query point is out of\n",
    "    the compliance-zone boundary whose surface is represented as the\n",
    "    unstructured point cloud.\n",
    "\n",
    "    Parameters\n",
    "    ----------\n",
    "    query_points : numpy.ndarray\n",
    "        Tested point(s) of shape (M, 3), M is the number of points\n",
    "        being assessed for compliance\n",
    "    evaluation_points : numpy.ndarray\n",
    "        Point cloud of shape (N, 3), N is the number of points on the\n",
    "        surface of the compliance-zone boundaryc\n",
    "    sample_count : int, optional\n",
    "        Number of closest points in the point cloud relative to each\n",
    "        query point\n",
    "    normals : numpy.ndarray, optional\n",
    "        Normals of shape (N, 3), where N is the number of points in the\n",
    "        point cloud. Normals should point out of the compliance zone\n",
    "    k : float, optional\n",
    "        Number of nearest neighbors for normal estimation\n",
    "    **kwargs : dict, optional\n",
    "        Additional keyword arguments for normal estimation if normals\n",
    "        are not provided\n",
    "\n",
    "    Returns\n",
    "    -------\n",
    "    numpy.ndarray \n",
    "        Of booleans indicating whether the query point is out of the \n",
    "    \"\"\"    \n",
    "    # handle points\n",
    "    size = evaluation_points.shape[0]\n",
    "    if size < 10:\n",
    "        raise ValueError('Number of points must be > 10')  # for robustness\n",
    "\n",
    "    # compute normals\n",
    "    if normals is None:\n",
    "        if not k:\n",
    "            k = int(2 * np.log(size))\n",
    "            if k < 5:\n",
    "                k = 5\n",
    "            elif k > 30:\n",
    "                k = 30\n",
    "        normals = estimate_normals(evaluation_points, k)\n",
    "        normals = orient_normals(evaluation_points, normals, k)\n",
    "    normals = normals / np.linalg.norm(normals, axis=1).reshape(-1, 1)\n",
    "\n",
    "    # find points on the compliance-zone boundary closest to the query point\n",
    "    tree = spatial.KDTree(evaluation_points)    \n",
    "    dist, idx = tree.query(query_points, k=sample_count, workers=-1)\n",
    "    closest_points = evaluation_points[idx]\n",
    "    \n",
    "    # compute the dot product between the relative position and normal vector\n",
    "    pos_vec = np.atleast_2d(query_points)[:, np.newaxis, :] - closest_points\n",
    "\n",
    "    # count the positive values indicating that the point is located outside\n",
    "    out = np.einsum('ijk,ijk->ij', pos_vec, normals[idx]) > 0\n",
    "    out = np.sum(out, axis=1) >= sample_count * 0.5\n",
    "    return out"
   ]
  },
  {
   "cell_type": "code",
   "execution_count": null,
   "id": "ee1768fc-a8ab-4c0d-8f15-b0ca60e13347",
   "metadata": {},
   "outputs": [],
   "source": [
    "# define query points to test an assessment function\n",
    "query_points = np.c_[X.ravel(), Y.ravel(), np.ones_like(X).ravel()]"
   ]
  },
  {
   "cell_type": "code",
   "execution_count": null,
   "id": "4b03e705-c4be-4f18-a7ff-13464e0d4a59",
   "metadata": {},
   "outputs": [],
   "source": [
    "fig = plt.figure(figsize=(5, 5))\n",
    "ax = plt.axes(projection='3d')\n",
    "ax.contourf(X, Y, Z, zdir='y', offset=1, levels=1, colors='b')\n",
    "ax.contourf(X, Y, Z, zdir='x', offset=-1, levels=1, colors='b')\n",
    "ax.scatter(*query_points.T, fc='orange', ec='k', s=5, lw=0.5)\n",
    "ax = set_3d_params(ax)\n",
    "ax.view_init(25, -70);"
   ]
  },
  {
   "cell_type": "code",
   "execution_count": null,
   "id": "d5d03a2f-2877-4d86-b80b-1722bdd39aa8",
   "metadata": {},
   "outputs": [],
   "source": [
    "# check if the orange dots are inside or out of the compliance zone\n",
    "out = assess_compliance(query_points, points,\n",
    "                        sample_count=5,\n",
    "                        normals=normals)"
   ]
  },
  {
   "cell_type": "code",
   "execution_count": null,
   "id": "f45525eb-0b89-49a5-b45a-5b31bd8b5533",
   "metadata": {},
   "outputs": [],
   "source": [
    "fig = plt.figure(figsize=(5, 5))\n",
    "ax = plt.axes(projection='3d')\n",
    "ax.contourf(X, Y, Z, zdir='y', offset=1, levels=1, colors='b')\n",
    "ax.contourf(X, Y, Z, zdir='x', offset=-1, levels=1, colors='b')\n",
    "ax.scatter(*query_points[out, ...].T, fc='w', ec='k', s=15, lw=0.5)\n",
    "ax = set_3d_params(ax)\n",
    "ax.view_init(25, -70);"
   ]
  },
  {
   "cell_type": "code",
   "execution_count": null,
   "id": "e5d89476-3750-4be1-a4ab-2ba7f787b113",
   "metadata": {},
   "outputs": [],
   "source": [
    "# find out the approximate radius where f(x, y) is ~1\n",
    "idx = np.where(np.isclose(Z, 1, rtol=1e-2, atol=1e-2))\n",
    "r = np.mean(np.sqrt(X[idx] ** 2 + Y[idx] ** 2))"
   ]
  },
  {
   "cell_type": "code",
   "execution_count": null,
   "id": "acd4716a-601c-4cdd-a9ee-3494d8efe77b",
   "metadata": {},
   "outputs": [],
   "source": [
    "fig = plt.figure(figsize=(4, 4))\n",
    "ax = plt.axes()\n",
    "circle = patches.Circle((0, 0), r, fc='none', ec='k')\n",
    "ax.add_patch(circle)\n",
    "ax.scatter(*query_points[out, :2].T,\n",
    "           fc='w', ec='k', s=7, lw=0.5)\n",
    "ax.set(xlabel='x', ylabel='y');"
   ]
  },
  {
   "cell_type": "code",
   "execution_count": null,
   "id": "dedac165-b596-481f-aa5f-d840f220ea06",
   "metadata": {},
   "outputs": [],
   "source": []
  }
 ],
 "metadata": {
  "kernelspec": {
   "display_name": "Python 3 (ipykernel)",
   "language": "python",
   "name": "python3"
  },
  "language_info": {
   "codemirror_mode": {
    "name": "ipython",
    "version": 3
   },
   "file_extension": ".py",
   "mimetype": "text/x-python",
   "name": "python",
   "nbconvert_exporter": "python",
   "pygments_lexer": "ipython3",
   "version": "3.9.17"
  }
 },
 "nbformat": 4,
 "nbformat_minor": 5
}
