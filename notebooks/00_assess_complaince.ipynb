{
 "cells": [
  {
   "cell_type": "code",
   "execution_count": null,
   "id": "b0dfde33-a348-464c-b3f1-e5c3fb32a54c",
   "metadata": {},
   "outputs": [],
   "source": [
    "import matplotlib.pyplot as plt\n",
    "from matplotlib import patches\n",
    "import numpy as np\n",
    "import polatory\n",
    "from scipy import interpolate\n",
    "from scipy import spatial\n",
    "import seaborn as sns\n",
    "\n",
    "from utils import (config_rcparams,\n",
    "                   set_axes_equal,\n",
    "                   set_3d_params,\n",
    "                   estimate_normals,\n",
    "                   orient_normals)"
   ]
  },
  {
   "cell_type": "code",
   "execution_count": null,
   "id": "aba093b3-b6a1-44ba-ba5a-12a2de985dcc",
   "metadata": {},
   "outputs": [],
   "source": [
    "config_rcparams()"
   ]
  },
  {
   "cell_type": "code",
   "execution_count": null,
   "id": "9f2b2dfe-8f12-40e3-9585-b3c15a74034e",
   "metadata": {},
   "outputs": [],
   "source": [
    "%config InlineBackend.figure_format = 'retina'"
   ]
  },
  {
   "cell_type": "markdown",
   "id": "9c038495-e515-48d1-bd31-529897c97197",
   "metadata": {},
   "source": [
    "# Toy example: Gaussian-pattern compliance-zone boundary"
   ]
  },
  {
   "cell_type": "code",
   "execution_count": null,
   "id": "cab1ffde-6526-49d1-90c3-7506483d778f",
   "metadata": {},
   "outputs": [],
   "source": [
    "def f(x, y, A=1, x0=0, y0=0, theta_x=1, theta_y=1):\n",
    "    \"\"\"2D Gaussian function.\n",
    "\n",
    "    Parameters\n",
    "    ----------\n",
    "    x : float of numpy.ndarray\n",
    "        Spatial coordinate(s), x-direction\n",
    "    y : float of numpy.ndarray\n",
    "        Spatial coordinate(s), y-direction\n",
    "    A : float, optional\n",
    "        Amplitude    \n",
    "    x0 : float, optional\n",
    "        Center of the blob, x-direction\n",
    "    y0 : float, optional\n",
    "        Center of the blob, y-direction\n",
    "    theta_x : float, optional\n",
    "        Spread of the blob, x-direction\n",
    "    theta_y : float, optional\n",
    "        Spread of the blob, y-direction\n",
    "\n",
    "    Returns\n",
    "    -------\n",
    "    float or numpy.ndarray\n",
    "        Value(s) of the Guassian function, z-direction\n",
    "    \"\"\"\n",
    "    return A * np.exp(\n",
    "        - (x - x0) ** 2 / (2 * theta_x ** 2)\n",
    "        - (y - y0) ** 2 / (2 * theta_y ** 2))"
   ]
  },
  {
   "cell_type": "code",
   "execution_count": null,
   "id": "f624590d-f7ef-452c-84b8-984bc1588436",
   "metadata": {},
   "outputs": [],
   "source": [
    "# generate surface points of the compliance-zone boundary\n",
    "x = np.linspace(-1, 1, 51)\n",
    "y = np.linspace(-1, 1, 51)\n",
    "X, Y = np.meshgrid(x, y)\n",
    "Z = f(X, Y, A=2, theta_x=0.3, theta_y=0.3)"
   ]
  },
  {
   "cell_type": "code",
   "execution_count": null,
   "id": "680d1723-9d55-4c11-9254-e5830f0b6caa",
   "metadata": {},
   "outputs": [],
   "source": [
    "fig = plt.figure(figsize=(5, 5))\n",
    "ax = plt.axes(projection='3d')\n",
    "ax = set_3d_params(ax)\n",
    "surf = ax.plot_surface(X, Y, Z, lw=0, cstride=1, rstride=1, antialiased=False)"
   ]
  },
  {
   "cell_type": "markdown",
   "id": "326c10c6-897d-45b4-95ad-f611a7cd8c7e",
   "metadata": {},
   "source": [
    "## Normal estimation at each evaluation point"
   ]
  },
  {
   "cell_type": "code",
   "execution_count": null,
   "id": "2fe82214-b251-4810-abe9-99101227bc93",
   "metadata": {},
   "outputs": [],
   "source": [
    "# create the point cloud and generate a unit normal at each point\n",
    "points = np.c_[X.ravel(), Y.ravel(), Z.ravel()]\n",
    "normals = estimate_normals(points, k=20)\n",
    "normals = orient_normals(points, normals, k=20)"
   ]
  },
  {
   "cell_type": "code",
   "execution_count": null,
   "id": "481dea48-d105-44b8-924d-598bbdc7f2cb",
   "metadata": {},
   "outputs": [],
   "source": [
    "fig = plt.figure(figsize=(5, 5))\n",
    "ax = plt.axes(projection='3d')\n",
    "ax = set_3d_params(ax)\n",
    "surf = ax.plot_surface(X, Y, Z, lw=0, cstride=1, rstride=1, antialiased=False)\n",
    "q = ax.quiver(*points.T, *normals.T, color='k',\n",
    "              lw=0.5, length=0.25, arrow_length_ratio=0.15)"
   ]
  },
  {
   "cell_type": "markdown",
   "id": "38aaeab2-9704-43da-860b-040d1e767e26",
   "metadata": {},
   "source": [
    "## How to check whether a point is within the compliance-zone boundaries?"
   ]
  },
  {
   "cell_type": "markdown",
   "id": "f8862ede-0cad-42ad-b5ae-1b4bd1948793",
   "metadata": {},
   "source": [
    "### Radial basis function (RBF) interpolation"
   ]
  },
  {
   "cell_type": "markdown",
   "id": "b102f42b-6fbe-4c3e-b3a5-09e013ea7702",
   "metadata": {},
   "source": [
    "The first method in this notebook interpolates the points on the surface of the compliance-zone boundaries in 3D space by using RBF.\n",
    "\n",
    "Herein, the [`polatory`](https://github.com/polatory/polatory) package, a fast and memory-efficient framework written in C++, is used.\n",
    "This package implements the approach proposed in Carr et al. \"[Reconstruction and representation of 3D objects with radial basis functions](https://doi.org/10.1145/383259.383266),\" in *Computer Graphics SIGGRAPH 2001 proceedings*, pp. 67-76, 2001.\n",
    "\n",
    "This approach is divided into 4 simple steps:\n",
    "\n",
    "**Step 1** &ensp; Define the query point, $p$\n",
    "\n",
    "**Step 2** &ensp; Create the signed-distance function and sample points and values for interpolation purposes\n",
    "\n",
    "**Step 3** &ensp; Interpolate sampled points by using RBF (bi-harmonic kernel)\n",
    "\n",
    "**Step 4** &ensp; Evaluate the interpolant at $p$; if the value is positive, the point is located out of the compliance-zone boundaries"
   ]
  },
  {
   "cell_type": "code",
   "execution_count": null,
   "id": "8d613a31-71ce-4c04-ab4a-dc1087c47c04",
   "metadata": {},
   "outputs": [],
   "source": [
    "# step 1\n",
    "point_out = np.array([-1, -1, 1])  # out of the compliance-zone boundaries"
   ]
  },
  {
   "cell_type": "code",
   "execution_count": null,
   "id": "60f8a1ce-c835-4834-a51d-0aba3b116a9f",
   "metadata": {},
   "outputs": [],
   "source": [
    "# step 2\n",
    "pairwise_distance = spatial.distance.pdist(points)\n",
    "min_distance = np.min(pairwise_distance)\n",
    "max_distance = np.max(pairwise_distance)\n",
    "sdf = polatory.SdfDataGenerator(points, normals, min_distance, max_distance)\n",
    "sdf_points, sdf_values = sdf.sdf_points, sdf.sdf_values\n",
    "# additional cleanup - optional\n",
    "mask = polatory.DistanceFilter(sdf_points, 1e-4).filtered_indices\n",
    "sdf_points, sdf_values = sdf_points[mask, ...], sdf_values[mask]"
   ]
  },
  {
   "cell_type": "code",
   "execution_count": null,
   "id": "4e8d10e3-d7a7-48bb-9798-99fb8d47da24",
   "metadata": {},
   "outputs": [],
   "source": [
    "# step 3\n",
    "rbf = polatory.Biharmonic3D([1.0])\n",
    "model = polatory.Model(rbf, poly_dimension=2, poly_degree=1)\n",
    "interp = polatory.Interpolant(model)\n",
    "interp.fit(sdf_points, sdf_values, absolute_tolerance=1e-4)"
   ]
  },
  {
   "cell_type": "code",
   "execution_count": null,
   "id": "4b456e82-e029-4a05-afc9-a3378ba9d347",
   "metadata": {},
   "outputs": [],
   "source": [
    "# step 4\n",
    "val = interp.evaluate(point_out)"
   ]
  },
  {
   "cell_type": "code",
   "execution_count": null,
   "id": "918f166b-0cc2-4cd4-98ef-57e9c4cecf43",
   "metadata": {},
   "outputs": [],
   "source": [
    "if val > 0:\n",
    "    print(f'The point is OUT of the compliance-zone boundaries')\n",
    "else:\n",
    "    print(f'The point is WITHIN the compliance-zone boundaries')"
   ]
  },
  {
   "cell_type": "markdown",
   "id": "29a34d43-7404-4382-8a7a-55e28ba2a8d9",
   "metadata": {},
   "source": [
    "### A simple function to check whether a point is within the compliance-zone boundaries"
   ]
  },
  {
   "cell_type": "markdown",
   "id": "45daa462-0217-4592-a2e3-c174d695d390",
   "metadata": {},
   "source": [
    "RBF interpolation is done by using `SciPy` instead of `polatory` for speed, simplicity, and controlability sake."
   ]
  },
  {
   "cell_type": "code",
   "execution_count": null,
   "id": "7d0b5df5-f517-4ea2-9cb4-b3b13512c5d6",
   "metadata": {},
   "outputs": [],
   "source": [
    "# this code is ready to be used after installation of `polatory`\n",
    "def assess_compliance(query_points,\n",
    "                      evaluation_points,\n",
    "                      normals=None,\n",
    "                      k=None,\n",
    "                      **kwargs):\n",
    "    \"\"\"Return the value indicating whether the point is within or out\n",
    "    of the complianze-zone boundary whose surface is represented as the\n",
    "    unstructured point cloud.\n",
    "\n",
    "    Parameters\n",
    "    ----------\n",
    "    query_points : numpy.ndarray\n",
    "        Tested point(s) of shape (M, 3), M is the number of points\n",
    "        being assessed for compliance\n",
    "    evaluation_points : numpy.ndarray\n",
    "        Point cloud of shape (N, 3), N is the number of points on the\n",
    "        surface of the compliance-zone boundary\n",
    "    normals : numpy.ndarray, optional\n",
    "        Normals of shape (N, 3), where N is the number of points in the\n",
    "        point cloud. Normals should point out of the compliance zone\n",
    "    k : float, optional\n",
    "        Number of nearest neighbors for normal estimation\n",
    "    **kwargs : dict, optional\n",
    "        Additional keyword arguments for normal estimation if normals\n",
    "        are not provided\n",
    "\n",
    "    Returns\n",
    "    -------\n",
    "    float\n",
    "        Interpolated value. For values > 0, the point is expected to be\n",
    "        located out of the compliance zone\n",
    "    \"\"\"\n",
    "    # handle additional dependencies\n",
    "    try:\n",
    "        import polatory\n",
    "    except ModuleNotFoundError as e:\n",
    "        print(e, 'install it before proceeding', sep=', ')\n",
    "    \n",
    "    # handle points\n",
    "    size = evaluation_points.shape[0]\n",
    "    if size < 10:\n",
    "        raise ValueError('Number of points must be > 10')  # for robustness\n",
    "\n",
    "    # compute normals\n",
    "    if normals is None:\n",
    "        if not k:\n",
    "            k = int(2 * np.log(size))\n",
    "            if k < 5:\n",
    "                k = 5\n",
    "            elif k > 30:\n",
    "                k = 30\n",
    "        normals = estimate_normals(evaluation_points, k)\n",
    "        normals = orient_normals(evaluation_points, normals, k)\n",
    "    normals = normals / np.linalg.norm(normals, axis=1).reshape(-1, 1)\n",
    "\n",
    "    # sample points sampled from the signed distance function\n",
    "    pairwise_distance = spatial.distance.pdist(evaluation_points)\n",
    "    min_distance = np.min(pairwise_distance)\n",
    "    max_distance = np.max(pairwise_distance)\n",
    "    sdf = polatory.SdfDataGenerator(evaluation_points,\n",
    "                                    normals,\n",
    "                                    min_distance,\n",
    "                                    max_distance)\n",
    "    \n",
    "    # remove points that are too close to each other\n",
    "    mask = polatory.DistanceFilter(sdf.sdf_points, 1e-4).filtered_indices\n",
    "    sdf_points = sdf.sdf_points[mask, ...]\n",
    "    sdf_values = sdf.sdf_values[mask]\n",
    "\n",
    "    # interpolate SDF points with RBF, Carr et al. 2001\n",
    "    interp = interpolate.RBFInterpolator(sdf_points,\n",
    "                                         sdf_values,\n",
    "                                         kernel='linear',  # biharmonic kernel\n",
    "                                         degree=1)\n",
    "    val = interp(np.atleast_2d(query_points))\n",
    "    return val"
   ]
  },
  {
   "cell_type": "code",
   "execution_count": null,
   "id": "6aa2a616-7b04-4627-9095-850137bc0a06",
   "metadata": {},
   "outputs": [],
   "source": [
    "# define query points to test an assessment function\n",
    "query_points = np.c_[X.ravel(), Y.ravel(), np.ones_like(X).ravel()]"
   ]
  },
  {
   "cell_type": "code",
   "execution_count": null,
   "id": "9990b6d4-c3f0-478e-9338-4205f0d5de32",
   "metadata": {},
   "outputs": [],
   "source": [
    "fig = plt.figure(figsize=(5, 5))\n",
    "ax = plt.axes(projection='3d')\n",
    "ax.contourf(X, Y, Z, zdir='y', offset=1, levels=1, colors='b')\n",
    "ax.contourf(X, Y, Z, zdir='x', offset=-1, levels=1, colors='b')\n",
    "ax.scatter(*query_points.T, fc='orange', ec='k', s=5, lw=0.5)\n",
    "ax = set_3d_params(ax)\n",
    "ax.view_init(25, -70);"
   ]
  },
  {
   "cell_type": "code",
   "execution_count": null,
   "id": "f5fc6642-e77c-4a27-930d-7fba830facb0",
   "metadata": {},
   "outputs": [],
   "source": [
    "# check if the orange dots are inside or out of the compliance zone\n",
    "val = assess_compliance(query_points, points,\n",
    "                        normals=normals)"
   ]
  },
  {
   "cell_type": "code",
   "execution_count": null,
   "id": "5974359e-f86d-4ff5-8e8a-f5aa3f168d15",
   "metadata": {},
   "outputs": [],
   "source": [
    "fig = plt.figure(figsize=(5, 5))\n",
    "ax = plt.axes(projection='3d')\n",
    "ax.contourf(X, Y, Z, zdir='y', offset=1, levels=1, colors='b')\n",
    "ax.contourf(X, Y, Z, zdir='x', offset=-1, levels=1, colors='b')\n",
    "ax.scatter(*query_points[val > 0, ...].T, fc='w', ec='k', s=15, lw=0.5)\n",
    "ax = set_3d_params(ax)\n",
    "ax.view_init(25, -70);"
   ]
  },
  {
   "cell_type": "code",
   "execution_count": null,
   "id": "4fa7110d-b3c8-4db0-8b3f-b6cee01d621f",
   "metadata": {},
   "outputs": [],
   "source": [
    "# find out the approximate radius where f(x, y) is ~1\n",
    "idx = np.where(np.isclose(Z, 1, rtol=1e-2, atol=1e-2))\n",
    "r = np.mean(np.sqrt(X[idx] ** 2 + Y[idx] ** 2))"
   ]
  },
  {
   "cell_type": "code",
   "execution_count": null,
   "id": "56051d74-a9ac-4b75-bdda-d210f0499b60",
   "metadata": {},
   "outputs": [],
   "source": [
    "fig = plt.figure(figsize=(4, 4))\n",
    "ax = plt.axes()\n",
    "circle = patches.Circle((0, 0), r, fc='none', ec='k')\n",
    "ax.add_patch(circle)\n",
    "ax.scatter(*query_points[val > 0, :2].T,\n",
    "           fc='w', ec='k', s=7, lw=0.5)\n",
    "ax.set(xlabel='x', ylabel='y');"
   ]
  },
  {
   "cell_type": "code",
   "execution_count": null,
   "id": "dedac165-b596-481f-aa5f-d840f220ea06",
   "metadata": {},
   "outputs": [],
   "source": []
  }
 ],
 "metadata": {
  "kernelspec": {
   "display_name": "Python 3 (ipykernel)",
   "language": "python",
   "name": "python3"
  },
  "language_info": {
   "codemirror_mode": {
    "name": "ipython",
    "version": 3
   },
   "file_extension": ".py",
   "mimetype": "text/x-python",
   "name": "python",
   "nbconvert_exporter": "python",
   "pygments_lexer": "ipython3",
   "version": "3.9.17"
  }
 },
 "nbformat": 4,
 "nbformat_minor": 5
}
